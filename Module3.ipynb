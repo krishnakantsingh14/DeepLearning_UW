{
 "cells": [
  {
   "cell_type": "code",
   "execution_count": 1,
   "metadata": {},
   "outputs": [
    {
     "name": "stdout",
     "output_type": "stream",
     "text": [
      "Tensor Flow version: 1.2.1\n"
     ]
    }
   ],
   "source": [
    "import tensorflow as tf\n",
    "print(\"Tensor Flow version: {}\".format(tf.__version__))"
   ]
  },
  {
   "cell_type": "code",
   "execution_count": 2,
   "metadata": {},
   "outputs": [],
   "source": [
    "import numpy as np\n"
   ]
  },
  {
   "cell_type": "code",
   "execution_count": 4,
   "metadata": {},
   "outputs": [],
   "source": [
    "matrix1 = tf.constant([[3., 3.]])\n",
    "matrix2 = tf.constant([[2.],\n",
    "                     [3.]])"
   ]
  },
  {
   "cell_type": "code",
   "execution_count": 10,
   "metadata": {},
   "outputs": [
    {
     "name": "stdout",
     "output_type": "stream",
     "text": [
      "Shape of matrix: (1, 2) (2, 1)\n"
     ]
    }
   ],
   "source": [
    "print (\"Shape of matrix: {} {}\".format(matrix1.shape, matrix2.shape))"
   ]
  },
  {
   "cell_type": "code",
   "execution_count": 11,
   "metadata": {},
   "outputs": [
    {
     "name": "stdout",
     "output_type": "stream",
     "text": [
      "Tensor(\"MatMul:0\", shape=(1, 1), dtype=float32)\n"
     ]
    }
   ],
   "source": [
    "product = tf.matmul(matrix1,matrix2)\n",
    "print (product)"
   ]
  },
  {
   "cell_type": "code",
   "execution_count": 13,
   "metadata": {},
   "outputs": [
    {
     "name": "stdout",
     "output_type": "stream",
     "text": [
      "[array([[15.]], dtype=float32)]\n"
     ]
    }
   ],
   "source": [
    "with tf.Session() as sess:\n",
    "    result = sess.run([product])\n",
    "    print(result)"
   ]
  },
  {
   "cell_type": "code",
   "execution_count": 14,
   "metadata": {},
   "outputs": [],
   "source": [
    "sess = tf.InteractiveSession()\n",
    "\n",
    "x = tf.Variable([1.0, 2.0])\n",
    "a = tf.constant([3.0, 3.0])\n",
    "\n",
    "x.initializer.run()"
   ]
  },
  {
   "cell_type": "code",
   "execution_count": 19,
   "metadata": {},
   "outputs": [
    {
     "name": "stdout",
     "output_type": "stream",
     "text": [
      "[-2. -1.]\n"
     ]
    }
   ],
   "source": [
    "sub = tf.subtract(x,a)\n",
    "print (sub.eval())"
   ]
  },
  {
   "cell_type": "code",
   "execution_count": 20,
   "metadata": {},
   "outputs": [
    {
     "data": {
      "text/plain": [
       "array([4., 6.], dtype=float32)"
      ]
     },
     "execution_count": 20,
     "metadata": {},
     "output_type": "execute_result"
    }
   ],
   "source": [
    "sess.run(x.assign([4.0, 6.0]))"
   ]
  },
  {
   "cell_type": "code",
   "execution_count": 21,
   "metadata": {},
   "outputs": [
    {
     "name": "stdout",
     "output_type": "stream",
     "text": [
      "[1. 3.]\n"
     ]
    }
   ],
   "source": [
    "print (sub.eval())"
   ]
  },
  {
   "cell_type": "code",
   "execution_count": 23,
   "metadata": {},
   "outputs": [],
   "source": [
    "sess.close()"
   ]
  },
  {
   "cell_type": "code",
   "execution_count": 26,
   "metadata": {},
   "outputs": [
    {
     "name": "stdout",
     "output_type": "stream",
     "text": [
      "Tensor(\"Const_3:0\", shape=(2,), dtype=float32)\n"
     ]
    }
   ],
   "source": [
    "print (a)"
   ]
  },
  {
   "cell_type": "markdown",
   "metadata": {},
   "source": [
    "## Keras TF example"
   ]
  },
  {
   "cell_type": "code",
   "execution_count": 30,
   "metadata": {},
   "outputs": [],
   "source": [
    "from keras.models import Sequential\n",
    "from keras.layers.core import Dense, Activation\n",
    "import pandas as pd\n",
    "import io"
   ]
  },
  {
   "cell_type": "code",
   "execution_count": 32,
   "metadata": {},
   "outputs": [],
   "source": [
    "path = \"./UW_deep_learning/data/\"\n",
    "filename = \"auto-mpg.csv\""
   ]
  },
  {
   "cell_type": "code",
   "execution_count": 34,
   "metadata": {},
   "outputs": [],
   "source": [
    "import os\n",
    "fileread = os.path.join(path, filename)"
   ]
  },
  {
   "cell_type": "code",
   "execution_count": 39,
   "metadata": {},
   "outputs": [],
   "source": [
    "df = pd.read_csv(fileread, na_values=['NA', '?'])\n",
    "cars = df['name']\n"
   ]
  },
  {
   "cell_type": "code",
   "execution_count": 40,
   "metadata": {},
   "outputs": [],
   "source": [
    "df.drop('name',1,inplace=True)\n",
    "med = df['horsepower'].median()\n",
    "df['horsepower'] = df['horsepower'].fillna(med)\n",
    "# missing_median(df, 'horsepower')"
   ]
  },
  {
   "cell_type": "code",
   "execution_count": 41,
   "metadata": {},
   "outputs": [],
   "source": [
    "from sklearn import preprocessing\n",
    "import matplotlib.pyplot as plt\n",
    "import numpy as np\n",
    "import pandas as pd\n",
    "import shutil\n",
    "import os\n",
    "\n",
    "\n",
    "# Encode text values to dummy variables(i.e. [1,0,0],[0,1,0],[0,0,1] for red,green,blue)\n",
    "def encode_text_dummy(df, name):\n",
    "    dummies = pd.get_dummies(df[name])\n",
    "    for x in dummies.columns:\n",
    "        dummy_name = \"{}-{}\".format(name, x)\n",
    "        df[dummy_name] = dummies[x]\n",
    "    df.drop(name, axis=1, inplace=True)\n",
    "\n",
    "\n",
    "# Encode text values to a single dummy variable.  The new columns (which do not replace the old) will have a 1\n",
    "# at every location where the original column (name) matches each of the target_values.  One column is added for\n",
    "# each target value.\n",
    "def encode_text_single_dummy(df, name, target_values):\n",
    "    for tv in target_values:\n",
    "        l = list(df[name].astype(str))\n",
    "        l = [1 if str(x) == str(tv) else 0 for x in l]\n",
    "        name2 = \"{}-{}\".format(name, tv)\n",
    "        df[name2] = l\n",
    "\n",
    "\n",
    "# Encode text values to indexes(i.e. [1],[2],[3] for red,green,blue).\n",
    "def encode_text_index(df, name):\n",
    "    le = preprocessing.LabelEncoder()\n",
    "    df[name] = le.fit_transform(df[name])\n",
    "    return le.classes_\n",
    "\n",
    "\n",
    "# Encode a numeric column as zscores\n",
    "def encode_numeric_zscore(df, name, mean=None, sd=None):\n",
    "    if mean is None:\n",
    "        mean = df[name].mean()\n",
    "\n",
    "    if sd is None:\n",
    "        sd = df[name].std()\n",
    "\n",
    "    df[name] = (df[name] - mean) / sd\n",
    "\n",
    "\n",
    "# Convert all missing values in the specified column to the median\n",
    "def missing_median(df, name):\n",
    "    med = df[name].median()\n",
    "    df[name] = df[name].fillna(med)\n",
    "\n",
    "\n",
    "# Convert all missing values in the specified column to the default\n",
    "def missing_default(df, name, default_value):\n",
    "    df[name] = df[name].fillna(default_value)\n",
    "\n",
    "\n",
    "# Convert a Pandas dataframe to the x,y inputs that TensorFlow needs\n",
    "def to_xy(df, target):\n",
    "    result = []\n",
    "    for x in df.columns:\n",
    "        if x != target:\n",
    "            result.append(x)\n",
    "    # find out the type of the target column.  Is it really this hard? :(\n",
    "    target_type = df[target].dtypes\n",
    "    target_type = target_type[0] if hasattr(target_type, '__iter__') else target_type\n",
    "    # Encode to int for classification, float otherwise. TensorFlow likes 32 bits.\n",
    "    if target_type in (np.int64, np.int32):\n",
    "        # Classification\n",
    "        dummies = pd.get_dummies(df[target])\n",
    "        return df.as_matrix(result).astype(np.float32), dummies.as_matrix().astype(np.float32)\n",
    "    else:\n",
    "        # Regression\n",
    "        return df.as_matrix(result).astype(np.float32), df.as_matrix([target]).astype(np.float32)\n",
    "\n",
    "# Nicely formatted time string\n",
    "def hms_string(sec_elapsed):\n",
    "    h = int(sec_elapsed / (60 * 60))\n",
    "    m = int((sec_elapsed % (60 * 60)) / 60)\n",
    "    s = sec_elapsed % 60\n",
    "    return \"{}:{:>02}:{:>05.2f}\".format(h, m, s)\n",
    "\n",
    "\n",
    "# Regression chart.\n",
    "def chart_regression(pred,y,sort=True):\n",
    "    t = pd.DataFrame({'pred' : pred, 'y' : y.flatten()})\n",
    "    if sort:\n",
    "        t.sort_values(by=['y'],inplace=True)\n",
    "    a = plt.plot(t['y'].tolist(),label='expected')\n",
    "    b = plt.plot(t['pred'].tolist(),label='prediction')\n",
    "    plt.ylabel('output')\n",
    "    plt.legend()\n",
    "    plt.show()\n",
    "\n",
    "# Remove all rows where the specified column is +/- sd standard deviations\n",
    "def remove_outliers(df, name, sd):\n",
    "    drop_rows = df.index[(np.abs(df[name] - df[name].mean()) >= (sd * df[name].std()))]\n",
    "    df.drop(drop_rows, axis=0, inplace=True)\n",
    "\n",
    "\n",
    "# Encode a column to a range between normalized_low and normalized_high.\n",
    "def encode_numeric_range(df, name, normalized_low=-1, normalized_high=1,\n",
    "                         data_low=None, data_high=None):\n",
    "    if data_low is None:\n",
    "        data_low = min(df[name])\n",
    "        data_high = max(df[name])\n",
    "\n",
    "    df[name] = ((df[name] - data_low) / (data_high - data_low)) \\\n",
    "               * (normalized_high - normalized_low) + normalized_low"
   ]
  },
  {
   "cell_type": "code",
   "execution_count": 42,
   "metadata": {},
   "outputs": [
    {
     "name": "stderr",
     "output_type": "stream",
     "text": [
      "/home/krishna/miniconda3/envs/NNDL/lib/python3.6/site-packages/ipykernel_launcher.py:74: FutureWarning: Method .as_matrix will be removed in a future version. Use .values instead.\n"
     ]
    }
   ],
   "source": [
    "x,y = to_xy(df,\"mpg\")"
   ]
  },
  {
   "cell_type": "code",
   "execution_count": 72,
   "metadata": {},
   "outputs": [
    {
     "data": {
      "text/plain": [
       "<keras.callbacks.History at 0x7ffa09fc9198>"
      ]
     },
     "execution_count": 72,
     "metadata": {},
     "output_type": "execute_result"
    }
   ],
   "source": [
    "model = Sequential()\n",
    "model.add(Dense(25, input_dim = x.shape[1], activation='relu')) # Hidden 1\n",
    "model.add(Dense(20, activation='relu')) #Hidden 2\n",
    "model.add(Dense(15, activation='relu')) #Hidden 2\n",
    "model.add(Dense(10, activation='relu')) #Hidden 2\n",
    "# model.add(Dense(10, activation='relu')) #Hidden 2\n",
    "model.add(Dense(1)) #Output \n",
    "\n",
    "\n",
    "model.compile(loss = 'mean_squared_error', optimizer='adam')\n",
    "model.fit(x,y,verbose=0,epochs=100)"
   ]
  },
  {
   "cell_type": "code",
   "execution_count": 73,
   "metadata": {},
   "outputs": [],
   "source": [
    "from sklearn import metrics\n",
    "# Measure RMSE\n",
    "pred = model.predict(x)\n"
   ]
  },
  {
   "cell_type": "code",
   "execution_count": 74,
   "metadata": {},
   "outputs": [
    {
     "name": "stdout",
     "output_type": "stream",
     "text": [
      "Final score (RMSE): 3.5546157360076904\n"
     ]
    }
   ],
   "source": [
    "\n",
    "score = np.sqrt(metrics.mean_squared_error(pred,y))\n",
    "print (\"Final score (RMSE): {}\".format(score))"
   ]
  },
  {
   "cell_type": "code",
   "execution_count": 50,
   "metadata": {},
   "outputs": [
    {
     "name": "stdout",
     "output_type": "stream",
     "text": [
      "1. care name: chevrolet chevelle malibu, predicted MPG: [17.756607]\n",
      "2. care name: buick skylark 320, predicted MPG: [19.870102]\n",
      "3. care name: plymouth satellite, predicted MPG: [21.20958]\n",
      "4. care name: amc rebel sst, predicted MPG: [21.352493]\n",
      "5. care name: ford torino, predicted MPG: [19.95671]\n",
      "6. care name: ford galaxie 500, predicted MPG: [16.096695]\n",
      "7. care name: chevrolet impala, predicted MPG: [18.711014]\n",
      "8. care name: plymouth fury iii, predicted MPG: [18.740005]\n",
      "9. care name: pontiac catalina, predicted MPG: [18.493088]\n",
      "10. care name: amc ambassador dpl, predicted MPG: [21.232773]\n"
     ]
    }
   ],
   "source": [
    "for i in range(10):\n",
    "    print (\"{}. care name: {}, predicted MPG: {}\".format(i+1, cars[i], pred[i]))"
   ]
  },
  {
   "cell_type": "code",
   "execution_count": 53,
   "metadata": {},
   "outputs": [
    {
     "data": {
      "image/png": "[encoded data removed]",
      "text/plain": [
       "<Figure size 432x288 with 1 Axes>"
      ]
     },
     "metadata": {},
     "output_type": "display_data"
    }
   ],
   "source": [
    "plt.plot(y,pred, \".\");"
   ]
  },
  {
   "cell_type": "code",
   "execution_count": 54,
   "metadata": {},
   "outputs": [
    {
     "name": "stdout",
     "output_type": "stream",
     "text": [
      "(398, 7)\n"
     ]
    }
   ],
   "source": [
    "print (x.shape)"
   ]
  },
  {
   "cell_type": "markdown",
   "metadata": {},
   "source": [
    "# Classification Neural Networks"
   ]
  },
  {
   "cell_type": "code",
   "execution_count": 76,
   "metadata": {},
   "outputs": [
    {
     "name": "stderr",
     "output_type": "stream",
     "text": [
      "/home/krishna/miniconda3/envs/NNDL/lib/python3.6/site-packages/ipykernel_launcher.py:71: FutureWarning: Method .as_matrix will be removed in a future version. Use .values instead.\n"
     ]
    }
   ],
   "source": [
    "from keras.layers.core import Dense, Activation\n",
    "from keras.callbacks import EarlyStopping\n",
    "\n",
    "iris_file=\"iris.csv\"\n",
    "file_iris = os.path.join(path,iris_file)\n",
    "df=pd.read_csv(file_iris,na_values=['NA','?'])\n",
    "\n",
    "species = encode_text_index(df,\"species\")\n",
    "x,y = to_xy(df,\"species\")\n"
   ]
  },
  {
   "cell_type": "code",
   "execution_count": 77,
   "metadata": {},
   "outputs": [
    {
     "name": "stdout",
     "output_type": "stream",
     "text": [
      "Epoch 1/100\n",
      "0s - loss: 1.1332\n",
      "Epoch 2/100\n",
      "0s - loss: 1.0507\n",
      "Epoch 3/100\n",
      "0s - loss: 0.9794\n",
      "Epoch 4/100\n",
      "0s - loss: 0.9179\n",
      "Epoch 5/100\n",
      "0s - loss: 0.8585\n",
      "Epoch 6/100\n",
      "0s - loss: 0.8025\n",
      "Epoch 7/100\n",
      "0s - loss: 0.7510\n",
      "Epoch 8/100\n",
      "0s - loss: 0.7038\n",
      "Epoch 9/100\n",
      "0s - loss: 0.6606\n",
      "Epoch 10/100\n",
      "0s - loss: 0.6260\n",
      "Epoch 11/100\n",
      "0s - loss: 0.5916\n",
      "Epoch 12/100\n",
      "0s - loss: 0.5604\n",
      "Epoch 13/100\n",
      "0s - loss: 0.5351\n",
      "Epoch 14/100\n",
      "0s - loss: 0.5062\n",
      "Epoch 15/100\n",
      "0s - loss: 0.4827\n",
      "Epoch 16/100\n",
      "0s - loss: 0.4639\n",
      "Epoch 17/100\n",
      "0s - loss: 0.4428\n",
      "Epoch 18/100\n",
      "0s - loss: 0.4258\n",
      "Epoch 19/100\n",
      "0s - loss: 0.4107\n",
      "Epoch 20/100\n",
      "0s - loss: 0.3940\n",
      "Epoch 21/100\n",
      "0s - loss: 0.3790\n",
      "Epoch 22/100\n",
      "0s - loss: 0.3649\n",
      "Epoch 23/100\n",
      "0s - loss: 0.3525\n",
      "Epoch 24/100\n",
      "0s - loss: 0.3409\n",
      "Epoch 25/100\n",
      "0s - loss: 0.3292\n",
      "Epoch 26/100\n",
      "0s - loss: 0.3196\n",
      "Epoch 27/100\n",
      "0s - loss: 0.3088\n",
      "Epoch 28/100\n",
      "0s - loss: 0.2981\n",
      "Epoch 29/100\n",
      "0s - loss: 0.2905\n",
      "Epoch 30/100\n",
      "0s - loss: 0.2794\n",
      "Epoch 31/100\n",
      "0s - loss: 0.2750\n",
      "Epoch 32/100\n",
      "0s - loss: 0.2656\n",
      "Epoch 33/100\n",
      "0s - loss: 0.2582\n",
      "Epoch 34/100\n",
      "0s - loss: 0.2467\n",
      "Epoch 35/100\n",
      "0s - loss: 0.2435\n",
      "Epoch 36/100\n",
      "0s - loss: 0.2345\n",
      "Epoch 37/100\n",
      "0s - loss: 0.2303\n",
      "Epoch 38/100\n",
      "0s - loss: 0.2201\n",
      "Epoch 39/100\n",
      "0s - loss: 0.2169\n",
      "Epoch 40/100\n",
      "0s - loss: 0.2089\n",
      "Epoch 41/100\n",
      "0s - loss: 0.2034\n",
      "Epoch 42/100\n",
      "0s - loss: 0.1977\n",
      "Epoch 43/100\n",
      "0s - loss: 0.1929\n",
      "Epoch 44/100\n",
      "0s - loss: 0.1880\n",
      "Epoch 45/100\n",
      "0s - loss: 0.1834\n",
      "Epoch 46/100\n",
      "0s - loss: 0.1788\n",
      "Epoch 47/100\n",
      "0s - loss: 0.1742\n",
      "Epoch 48/100\n",
      "0s - loss: 0.1706\n",
      "Epoch 49/100\n",
      "0s - loss: 0.1680\n",
      "Epoch 50/100\n",
      "0s - loss: 0.1673\n",
      "Epoch 51/100\n",
      "0s - loss: 0.1590\n",
      "Epoch 52/100\n",
      "0s - loss: 0.1604\n",
      "Epoch 53/100\n",
      "0s - loss: 0.1527\n",
      "Epoch 54/100\n",
      "0s - loss: 0.1514\n",
      "Epoch 55/100\n",
      "0s - loss: 0.1493\n",
      "Epoch 56/100\n",
      "0s - loss: 0.1440\n",
      "Epoch 57/100\n",
      "0s - loss: 0.1410\n",
      "Epoch 58/100\n",
      "0s - loss: 0.1373\n",
      "Epoch 59/100\n",
      "0s - loss: 0.1370\n",
      "Epoch 60/100\n",
      "0s - loss: 0.1326\n",
      "Epoch 61/100\n",
      "0s - loss: 0.1305\n",
      "Epoch 62/100\n",
      "0s - loss: 0.1322\n",
      "Epoch 63/100\n",
      "0s - loss: 0.1270\n",
      "Epoch 64/100\n",
      "0s - loss: 0.1267\n",
      "Epoch 65/100\n",
      "0s - loss: 0.1228\n",
      "Epoch 66/100\n",
      "0s - loss: 0.1236\n",
      "Epoch 67/100\n",
      "0s - loss: 0.1212\n",
      "Epoch 68/100\n",
      "0s - loss: 0.1189\n",
      "Epoch 69/100\n",
      "0s - loss: 0.1169\n",
      "Epoch 70/100\n",
      "0s - loss: 0.1153\n",
      "Epoch 71/100\n",
      "0s - loss: 0.1126\n",
      "Epoch 72/100\n",
      "0s - loss: 0.1126\n",
      "Epoch 73/100\n",
      "0s - loss: 0.1130\n",
      "Epoch 74/100\n",
      "0s - loss: 0.1114\n",
      "Epoch 75/100\n",
      "0s - loss: 0.1070\n",
      "Epoch 76/100\n",
      "0s - loss: 0.1063\n",
      "Epoch 77/100\n",
      "0s - loss: 0.1042\n",
      "Epoch 78/100\n",
      "0s - loss: 0.1029\n",
      "Epoch 79/100\n",
      "0s - loss: 0.1028\n",
      "Epoch 80/100\n",
      "0s - loss: 0.1013\n",
      "Epoch 81/100\n",
      "0s - loss: 0.1021\n",
      "Epoch 82/100\n",
      "0s - loss: 0.1015\n",
      "Epoch 83/100\n",
      "0s - loss: 0.0995\n",
      "Epoch 84/100\n",
      "0s - loss: 0.0973\n",
      "Epoch 85/100\n",
      "0s - loss: 0.0967\n",
      "Epoch 86/100\n",
      "0s - loss: 0.0961\n",
      "Epoch 87/100\n",
      "0s - loss: 0.0944\n",
      "Epoch 88/100\n",
      "0s - loss: 0.0970\n",
      "Epoch 89/100\n",
      "0s - loss: 0.0917\n",
      "Epoch 90/100\n",
      "0s - loss: 0.0948\n",
      "Epoch 91/100\n",
      "0s - loss: 0.0914\n",
      "Epoch 92/100\n",
      "0s - loss: 0.0904\n",
      "Epoch 93/100\n",
      "0s - loss: 0.0940\n",
      "Epoch 94/100\n",
      "0s - loss: 0.0880\n",
      "Epoch 95/100\n",
      "0s - loss: 0.0896\n",
      "Epoch 96/100\n",
      "0s - loss: 0.0891\n",
      "Epoch 97/100\n",
      "0s - loss: 0.0884\n",
      "Epoch 98/100\n",
      "0s - loss: 0.0882\n",
      "Epoch 99/100\n",
      "0s - loss: 0.0886\n",
      "Epoch 100/100\n",
      "0s - loss: 0.0859\n"
     ]
    },
    {
     "data": {
      "text/plain": [
       "<keras.callbacks.History at 0x7ffa09807b00>"
      ]
     },
     "execution_count": 77,
     "metadata": {},
     "output_type": "execute_result"
    }
   ],
   "source": [
    "# Split into train/test\n",
    "model = Sequential()\n",
    "model.add(Dense(50, input_dim=x.shape[1], activation='relu')) # Hidden 1\n",
    "model.add(Dense(25, activation='relu')) # Hidden 2\n",
    "model.add(Dense(y.shape[1],activation='softmax')) # Output\n",
    "\n",
    "model.compile(loss='categorical_crossentropy', optimizer='adam')\n",
    "model.fit(x,y,verbose=2,epochs=100)"
   ]
  },
  {
   "cell_type": "code",
   "execution_count": 78,
   "metadata": {},
   "outputs": [
    {
     "name": "stdout",
     "output_type": "stream",
     "text": [
      "['Iris-setosa' 'Iris-versicolor' 'Iris-virginica']\n"
     ]
    }
   ],
   "source": [
    "print (species)"
   ]
  },
  {
   "cell_type": "code",
   "execution_count": 80,
   "metadata": {},
   "outputs": [
    {
     "name": "stdout",
     "output_type": "stream",
     "text": [
      "Shape: (150, 3)\n"
     ]
    }
   ],
   "source": [
    "pred_c = model.predict(x)\n",
    "print (\"Shape: {}\".format(pred_c\n",
    "                          .shape))"
   ]
  },
  {
   "cell_type": "code",
   "execution_count": 82,
   "metadata": {},
   "outputs": [
    {
     "name": "stdout",
     "output_type": "stream",
     "text": [
      "[[0.99792254 0.00207741 0.00000005]\n",
      " [0.9943869  0.00561289 0.0000002 ]\n",
      " [0.99657136 0.0034285  0.00000015]\n",
      " [0.99443644 0.00556323 0.00000031]\n",
      " [0.9982561  0.00174388 0.00000004]\n",
      " [0.9984293  0.00157066 0.00000002]\n",
      " [0.9971576  0.00284224 0.00000016]\n",
      " [0.9971126  0.00288733 0.00000008]\n",
      " [0.99274194 0.00725749 0.00000059]\n",
      " [0.9949401  0.00505971 0.00000017]\n",
      " [0.99845695 0.00154304 0.00000002]\n",
      " [0.99651676 0.00348308 0.00000013]\n",
      " [0.99455696 0.00544284 0.00000021]\n",
      " [0.99590164 0.004098   0.00000033]\n",
      " [0.9994344  0.00056559 0.        ]\n",
      " [0.99959725 0.00040276 0.        ]\n",
      " [0.9991693  0.00083069 0.00000001]\n",
      " [0.99791116 0.00208881 0.00000005]\n",
      " [0.99837846 0.00162155 0.00000001]\n",
      " [0.9986251  0.00137485 0.00000003]\n",
      " [0.99638116 0.00361878 0.00000005]\n",
      " [0.9982512  0.00174878 0.00000004]\n",
      " [0.99885374 0.00114621 0.00000005]\n",
      " [0.991691   0.00830865 0.00000036]\n",
      " [0.9922862  0.00771342 0.00000039]\n",
      " [0.9923646  0.00763519 0.00000025]\n",
      " [0.9959025  0.00409736 0.00000014]\n",
      " [0.99767923 0.00232075 0.00000004]\n",
      " [0.9975254  0.00247456 0.00000005]\n",
      " [0.99462116 0.00537858 0.00000026]\n",
      " [0.9936114  0.00638833 0.00000027]\n",
      " [0.99707425 0.00292572 0.00000005]\n",
      " [0.9992602  0.00073978 0.00000001]\n",
      " [0.9994805  0.00051953 0.        ]\n",
      " [0.9947236  0.00527621 0.00000018]\n",
      " [0.9971037  0.00289625 0.00000008]\n",
      " [0.99827075 0.00172923 0.00000002]\n",
      " [0.9982402  0.00175976 0.00000005]\n",
      " [0.99477285 0.00522672 0.0000004 ]\n",
      " [0.99715424 0.00284572 0.00000007]\n",
      " [0.9981302  0.00186975 0.00000005]\n",
      " [0.97461885 0.02537855 0.00000258]\n",
      " [0.9964187  0.003581   0.00000026]\n",
      " [0.9950505  0.00494925 0.00000025]\n",
      " [0.99587166 0.0041282  0.00000015]\n",
      " [0.9941489  0.0058508  0.00000027]\n",
      " [0.9984789  0.00152106 0.00000003]\n",
      " [0.9960576  0.00394217 0.00000021]\n",
      " [0.99843436 0.00156564 0.00000002]\n",
      " [0.9969213  0.00307859 0.00000008]\n",
      " [0.0010966  0.9953702  0.00353322]\n",
      " [0.00200803 0.9789486  0.01904337]\n",
      " [0.00095897 0.973012   0.02602906]\n",
      " [0.00306416 0.9059688  0.09096703]\n",
      " [0.00135386 0.9525202  0.04612594]\n",
      " [0.00227273 0.8207856  0.1769417 ]\n",
      " [0.00197757 0.9043127  0.09370974]\n",
      " [0.01420454 0.97821885 0.00757658]\n",
      " [0.0012653  0.9885232  0.01021151]\n",
      " [0.00529811 0.87199724 0.12270464]\n",
      " [0.00526864 0.97252166 0.02220972]\n",
      " [0.00325827 0.95657533 0.04016637]\n",
      " [0.00203803 0.9923201  0.00564186]\n",
      " [0.00161624 0.8492001  0.14918362]\n",
      " [0.01223813 0.9826055  0.00515638]\n",
      " [0.00189108 0.9946006  0.00350831]\n",
      " [0.00232951 0.63518435 0.36248615]\n",
      " [0.00324016 0.99065393 0.00610588]\n",
      " [0.00109043 0.770863   0.22804657]\n",
      " [0.00338373 0.9860132  0.01060309]\n",
      " [0.00085515 0.28351638 0.7156285 ]\n",
      " [0.00327389 0.9917949  0.00493122]\n",
      " [0.0006572  0.5434149  0.4559279 ]\n",
      " [0.0015823  0.9209118  0.07750589]\n",
      " [0.0019072  0.99317396 0.00491886]\n",
      " [0.0016128  0.9933086  0.00507861]\n",
      " [0.00091893 0.9731397  0.02594136]\n",
      " [0.00087308 0.76328665 0.23584029]\n",
      " [0.00212171 0.8630131  0.13486521]\n",
      " [0.01788569 0.9801802  0.00193413]\n",
      " [0.00370056 0.98495054 0.01134889]\n",
      " [0.0051891  0.98914725 0.00566367]\n",
      " [0.00389794 0.9900554  0.0060467 ]\n",
      " [0.0001864  0.11691926 0.88289434]\n",
      " [0.00197408 0.45292872 0.5450972 ]\n",
      " [0.00307788 0.90919024 0.0877319 ]\n",
      " [0.00129624 0.9782673  0.02043646]\n",
      " [0.00131586 0.9611426  0.03754152]\n",
      " [0.00416902 0.9680817  0.02774927]\n",
      " [0.00352158 0.9332962  0.06318222]\n",
      " [0.0024283  0.79376066 0.203811  ]\n",
      " [0.00196172 0.9175039  0.08053441]\n",
      " [0.00291444 0.9861543  0.01093125]\n",
      " [0.01190564 0.98122776 0.00686661]\n",
      " [0.00313645 0.9188709  0.07799262]\n",
      " [0.00362109 0.9768854  0.01949355]\n",
      " [0.00334947 0.9588642  0.03778632]\n",
      " [0.00210748 0.987986   0.00990648]\n",
      " [0.04322554 0.95367986 0.00309459]\n",
      " [0.00340613 0.9683145  0.02827933]\n",
      " [0.00000196 0.00145289 0.99854517]\n",
      " [0.00003129 0.01408974 0.98587894]\n",
      " [0.00001204 0.02151719 0.97847074]\n",
      " [0.00001993 0.01801187 0.9819682 ]\n",
      " [0.00000508 0.00440536 0.99558955]\n",
      " [0.00000174 0.00655136 0.9934469 ]\n",
      " [0.00010428 0.01828652 0.9816092 ]\n",
      " [0.00000686 0.02178321 0.9782099 ]\n",
      " [0.00001045 0.01664986 0.98333967]\n",
      " [0.00000389 0.00512553 0.9948706 ]\n",
      " [0.00038373 0.23419021 0.76542604]\n",
      " [0.0000527  0.04595755 0.95398974]\n",
      " [0.00004617 0.04975807 0.9501958 ]\n",
      " [0.00002507 0.00968524 0.9902897 ]\n",
      " [0.00001183 0.00445696 0.9955312 ]\n",
      " [0.00003074 0.01694082 0.9830285 ]\n",
      " [0.00007515 0.07184253 0.92808235]\n",
      " [0.0000037  0.01121725 0.98877907]\n",
      " [0.00000051 0.00192221 0.9980773 ]\n",
      " [0.00014374 0.11295226 0.886904  ]\n",
      " [0.00001384 0.01503232 0.9849538 ]\n",
      " [0.00004203 0.01298724 0.9869707 ]\n",
      " [0.00000173 0.007701   0.9922973 ]\n",
      " [0.00043636 0.285696   0.71386766]\n",
      " [0.00002481 0.02355097 0.9764242 ]\n",
      " [0.00005403 0.11510523 0.8848407 ]\n",
      " [0.0006645  0.35524404 0.6440914 ]\n",
      " [0.00054572 0.2551414  0.7443129 ]\n",
      " [0.00000853 0.00706077 0.9929307 ]\n",
      " [0.00017057 0.37881994 0.62100947]\n",
      " [0.00001364 0.04327809 0.95670825]\n",
      " [0.00006862 0.22512284 0.7748085 ]\n",
      " [0.00000691 0.00533538 0.9946577 ]\n",
      " [0.00055839 0.4441175  0.55532414]\n",
      " [0.00003122 0.03120561 0.9687632 ]\n",
      " [0.00000878 0.02715042 0.9728408 ]\n",
      " [0.00000659 0.00379161 0.9962018 ]\n",
      " [0.00007342 0.06095614 0.93897045]\n",
      " [0.00069266 0.27929416 0.7200132 ]\n",
      " [0.00012628 0.13207373 0.8678    ]\n",
      " [0.00000686 0.0059057  0.99408746]\n",
      " [0.0002498  0.197899   0.8018512 ]\n",
      " [0.00003129 0.01408974 0.98587894]\n",
      " [0.0000044  0.00473426 0.9952613 ]\n",
      " [0.00000489 0.00399189 0.9960032 ]\n",
      " [0.00007376 0.05524105 0.94468516]\n",
      " [0.00012172 0.09028352 0.9095948 ]\n",
      " [0.00015398 0.11151236 0.8883337 ]\n",
      " [0.00001723 0.00797163 0.99201113]\n",
      " [0.00012755 0.05676603 0.9431064 ]]\n"
     ]
    }
   ],
   "source": [
    "np.set_printoptions(suppress=True)\n",
    "print (pred_c)"
   ]
  },
  {
   "cell_type": "code",
   "execution_count": 83,
   "metadata": {},
   "outputs": [
    {
     "name": "stdout",
     "output_type": "stream",
     "text": [
      "[[1. 0. 0.]\n",
      " [1. 0. 0.]\n",
      " [1. 0. 0.]\n",
      " [1. 0. 0.]\n",
      " [1. 0. 0.]\n",
      " [1. 0. 0.]\n",
      " [1. 0. 0.]\n",
      " [1. 0. 0.]\n",
      " [1. 0. 0.]\n",
      " [1. 0. 0.]]\n"
     ]
    }
   ],
   "source": [
    "print (y[:10])"
   ]
  },
  {
   "cell_type": "code",
   "execution_count": 85,
   "metadata": {},
   "outputs": [
    {
     "name": "stdout",
     "output_type": "stream",
     "text": [
      "Predictions: [0 0 0 0 0 0 0 0 0 0 0 0 0 0 0 0 0 0 0 0 0 0 0 0 0 0 0 0 0 0 0 0 0 0 0 0 0\n",
      " 0 0 0 0 0 0 0 0 0 0 0 0 0 1 1 1 1 1 1 1 1 1 1 1 1 1 1 1 1 1 1 1 1 2 1 1 1\n",
      " 1 1 1 1 1 1 1 1 1 2 2 1 1 1 1 1 1 1 1 1 1 1 1 1 1 1 2 2 2 2 2 2 2 2 2 2 2\n",
      " 2 2 2 2 2 2 2 2 2 2 2 2 2 2 2 2 2 2 2 2 2 2 2 2 2 2 2 2 2 2 2 2 2 2 2 2 2\n",
      " 2 2]\n",
      "Expectations: [0 0 0 0 0 0 0 0 0 0 0 0 0 0 0 0 0 0 0 0 0 0 0 0 0 0 0 0 0 0 0 0 0 0 0 0 0\n",
      " 0 0 0 0 0 0 0 0 0 0 0 0 0 1 1 1 1 1 1 1 1 1 1 1 1 1 1 1 1 1 1 1 1 1 1 1 1\n",
      " 1 1 1 1 1 1 1 1 1 1 1 1 1 1 1 1 1 1 1 1 1 1 1 1 1 1 2 2 2 2 2 2 2 2 2 2 2\n",
      " 2 2 2 2 2 2 2 2 2 2 2 2 2 2 2 2 2 2 2 2 2 2 2 2 2 2 2 2 2 2 2 2 2 2 2 2 2\n",
      " 2 2]\n"
     ]
    }
   ],
   "source": [
    "predicted_class = np.argmax(pred_c,axis=1)\n",
    "expected_classes = np.argmax(y,axis=1)\n",
    "print (\"Predictions: {}\".format(predicted_class))\n",
    "print (\"Expectations: {}\".format(expected_classes))"
   ]
  },
  {
   "cell_type": "code",
   "execution_count": null,
   "metadata": {},
   "outputs": [],
   "source": []
  }
 ],
 "metadata": {
  "kernelspec": {
   "display_name": "Python 3",
   "language": "python",
   "name": "python3"
  },
  "language_info": {
   "codemirror_mode": {
    "name": "ipython",
    "version": 3
   },
   "file_extension": ".py",
   "mimetype": "text/x-python",
   "name": "python",
   "nbconvert_exporter": "python",
   "pygments_lexer": "ipython3",
   "version": "3.6.4"
  }
 },
 "nbformat": 4,
 "nbformat_minor": 2
}
